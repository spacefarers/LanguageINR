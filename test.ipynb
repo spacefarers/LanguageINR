{
 "cells": [
  {
   "cell_type": "code",
   "execution_count": null,
   "id": "f2fa2485",
   "metadata": {},
   "outputs": [],
   "source": [
    "# pip install open_clip_torch pillow torch torchvision\n",
    "\n",
    "import torch\n",
    "import open_clip\n",
    "from PIL import Image\n",
    "\n",
    "# 1) Load model + preprocess\n",
    "device = \"cuda\" if torch.cuda.is_available() else \"cpu\"\n",
    "model, _, preprocess = open_clip.create_model_and_transforms(\n",
    "    \"ViT-B-16\", pretrained=\"laion2b_s34b_b79k\"\n",
    ")\n",
    "model = model.to(device).eval()\n",
    "\n",
    "# 2) Prepare inputs\n",
    "image_path = \"your_image.jpg\"  # replace with a local image\n",
    "image = Image.open(image_path).convert(\"RGB\")\n",
    "image_tensor = preprocess(image).unsqueeze(0).to(device)   # [1,3,224,224]\n",
    "\n",
    "texts = [\n",
    "    \"a photo of a cat\",\n",
    "    \"a photo of a dog\",\n",
    "    \"a bowl of fruit\",\n",
    "    \"a scenic mountain landscape\",\n",
    "]\n",
    "tokenizer = open_clip.get_tokenizer(\"ViT-B-16\")\n",
    "text_tokens = tokenizer(texts).to(device)                  # [4,token_len]\n",
    "\n",
    "# 3) Encode to the shared embedding space\n",
    "with torch.no_grad():\n",
    "    img_feat  = model.encode_image(image_tensor)           # [1,d]\n",
    "    txt_feat  = model.encode_text(text_tokens)             # [4,d]\n",
    "    img_feat  = img_feat / img_feat.norm(dim=-1, keepdim=True)\n",
    "    txt_feat  = txt_feat / txt_feat.norm(dim=-1, keepdim=True)\n",
    "\n",
    "    # 4) Similarities & probabilities (zero-shot classification)\n",
    "    logits = img_feat @ txt_feat.T                         # [1,4]\n",
    "    probs  = logits.softmax(dim=-1).squeeze(0)             # [4]\n",
    "\n",
    "# 5) Show results\n",
    "best_idx = int(torch.argmax(probs).item())\n",
    "print(\"Texts (with probs):\")\n",
    "for i, (t, p) in enumerate(zip(texts, probs.tolist())):\n",
    "    print(f\"  {i}: {t:35s}  p={p:.3f}\")\n",
    "print(f\"\\nTop match: {texts[best_idx]}\")\n"
   ]
  },
  {
   "cell_type": "code",
   "execution_count": null,
   "id": "b05a30bd",
   "metadata": {},
   "outputs": [],
   "source": []
  }
 ],
 "metadata": {
  "kernelspec": {
   "display_name": "base",
   "language": "python",
   "name": "python3"
  },
  "language_info": {
   "name": "python",
   "version": "3.12.9"
  }
 },
 "nbformat": 4,
 "nbformat_minor": 5
}
